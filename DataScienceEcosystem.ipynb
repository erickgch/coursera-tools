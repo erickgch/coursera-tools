{
 "cells": [
  {
   "cell_type": "markdown",
   "id": "f1319d63-f71f-4378-9feb-ae990c985d9e",
   "metadata": {},
   "source": [
    "# Data Science Tools and Ecosystem #"
   ]
  },
  {
   "cell_type": "markdown",
   "id": "e04228a0-4f60-4647-b878-da310d87e157",
   "metadata": {},
   "source": [
    "Some of the popular languages that Data Scientists use are:\n",
    "<ol>\n",
    "    <li> Python </li>\n",
    "    <li> SQL </li>\n",
    "    <li> R </li>\n",
    "</ol>"
   ]
  },
  {
   "cell_type": "markdown",
   "id": "ae31f2b5-54e8-4ca1-9f7e-d91beb67e247",
   "metadata": {
    "tags": []
   },
   "source": [
    "In this notebook, Data Science Tools and Ecosystem are summarized."
   ]
  },
  {
   "cell_type": "markdown",
   "id": "2af4b4fc-abd9-4456-9720-d2f380baa27e",
   "metadata": {},
   "source": [
    "Some of the commonly used libraries used by Data Scientists include:\n",
    "<ol>\n",
    "    <li> Matplotlib </li>\n",
    "    <li> scikit-learn </li>\n",
    "    <li> Pandas </li>\n",
    "    <li> NumPy </li>\n",
    "</ol>"
   ]
  },
  {
   "cell_type": "markdown",
   "id": "36d35cd3-e4c7-4088-9218-f6870d931488",
   "metadata": {
    "tags": []
   },
   "source": [
    "| Data Science Tools |\n",
    "| --- |\n",
    "| Apache Spark |\n",
    "| Apache Hadoop |\n",
    "| Jupyter Notebook |\n"
   ]
  },
  {
   "cell_type": "markdown",
   "id": "54732339-a8b1-40a1-a4f7-2c10b814de63",
   "metadata": {},
   "source": [
    "### Below are a few examples of evaluating arithmetic expressions in Python ###"
   ]
  },
  {
   "cell_type": "code",
   "execution_count": 4,
   "id": "a102f530-76be-4211-a4d8-4dc0681cd789",
   "metadata": {
    "tags": []
   },
   "outputs": [
    {
     "data": {
      "text/plain": [
       "17"
      ]
     },
     "execution_count": 4,
     "metadata": {},
     "output_type": "execute_result"
    }
   ],
   "source": [
    "#This a simple arithmetic expression to mutiply then add integers\n",
    "(3*4)+5"
   ]
  },
  {
   "cell_type": "code",
   "execution_count": 5,
   "id": "61ffe7fc-6680-4ecb-899c-9edfaa3a5041",
   "metadata": {
    "tags": []
   },
   "outputs": [
    {
     "data": {
      "text/plain": [
       "3.3333333333333335"
      ]
     },
     "execution_count": 5,
     "metadata": {},
     "output_type": "execute_result"
    }
   ],
   "source": [
    "# This will convert 200 minutes to hours by diving by 60\n",
    "200/60"
   ]
  },
  {
   "cell_type": "markdown",
   "id": "041dfc71-7e5c-4ce7-9b7b-b41de96247f9",
   "metadata": {},
   "source": [
    "**Objectives**\n",
    "- List popular languages for Data Science\n",
    "- List popular libraries for Data Science\n",
    "- LIst popular Tools for Data Science\n",
    "- Use arithmetic expressions in Python"
   ]
  },
  {
   "cell_type": "markdown",
   "id": "6404fcf5-dd27-456c-aeb5-a08de6a1a0f2",
   "metadata": {},
   "source": [
    "## Author ##\n",
    "Erick García"
   ]
  },
  {
   "cell_type": "code",
   "execution_count": null,
   "id": "256806c0-a506-4428-af5b-dd10e3cfffb9",
   "metadata": {},
   "outputs": [],
   "source": []
  }
 ],
 "metadata": {
  "kernelspec": {
   "display_name": "Python",
   "language": "python",
   "name": "conda-env-python-py"
  },
  "language_info": {
   "codemirror_mode": {
    "name": "ipython",
    "version": 3
   },
   "file_extension": ".py",
   "mimetype": "text/x-python",
   "name": "python",
   "nbconvert_exporter": "python",
   "pygments_lexer": "ipython3",
   "version": "3.7.12"
  }
 },
 "nbformat": 4,
 "nbformat_minor": 5
}
